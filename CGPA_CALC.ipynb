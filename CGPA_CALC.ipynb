{
 "cells": [
  {
   "cell_type": "code",
   "execution_count": null,
   "id": "78a6d68f",
   "metadata": {},
   "outputs": [],
   "source": [
    "total_mark=float()\n",
    "gpa=float()\n",
    "cgpa=float()\n",
    "total_credits=float()\n",
    "name=input(\"ENTER YOUR NAME :\")\n",
    "clg=input(\"ENTER YOUR COLLEGE NAME: \")\n",
    "paper=int(input(\"ENTER THE TOTAL NUMBER OF SUBJECT:\"))\n",
    "for i in range(0, paper):\n",
    "    mark=int(input(\"ENTER THE TOTAL MARKS OF THE SUBJECT :\"))\n",
    "    total_mark=total_mark+mark\n",
    "    cre=int(input(\"ENTER THE CREDIT POINTS YOU HAVE EARNED IN THE SAME: \"))\n",
    "    total_credits=total_credits+cre\n",
    "gpa=(total_credits*total_mark)/paper\n",
    "cgpa=(gpa/total_credits)\n",
    "print(\"YOU HAVE SCORED \",cgpa,\" POINTS OUT OF 10!!!!\")"
   ]
  }
 ],
 "metadata": {
  "kernelspec": {
   "display_name": "Python 3 (ipykernel)",
   "language": "python",
   "name": "python3"
  },
  "language_info": {
   "codemirror_mode": {
    "name": "ipython",
    "version": 3
   },
   "file_extension": ".py",
   "mimetype": "text/x-python",
   "name": "python",
   "nbconvert_exporter": "python",
   "pygments_lexer": "ipython3",
   "version": "3.9.7"
  }
 },
 "nbformat": 4,
 "nbformat_minor": 5
}
